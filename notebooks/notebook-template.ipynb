{
 "cells": [
  {
   "cell_type": "markdown",
   "metadata": {},
   "source": [
    "<img src=\"https://sea.ucar.edu/sites/default/files/logo_3.png\"\n",
    "     width=\"750px\"\n",
    "     alt=\"NCAR logo\"\n",
    "     style=\"vertical-align:middle;margin:30px 0px\"/>\n",
    "\n",
    "\n",
    "# Notebook Title\n",
    "\n",
    "**Authors:** [Author 1](mailto:mailme.mail.com), [Author 2](mailto:mailme.mail.com), etc.\n",
    "\n",
    "**Keywords:** [keywords that describe the content of the notebook, comma separated]\n",
    "\n",
    "----------"
   ]
  },
  {
   "cell_type": "markdown",
   "metadata": {},
   "source": [
    "## Abstract\n",
    "[Insert Abstract Here]"
   ]
  },
  {
   "cell_type": "markdown",
   "metadata": {},
   "source": [
    "## Introduction\n",
    "\n",
    "[Insert Introduction Here]"
   ]
  },
  {
   "cell_type": "markdown",
   "metadata": {},
   "source": [
    "## Methods\n",
    "\n",
    "[Insert Methods Here]"
   ]
  },
  {
   "cell_type": "markdown",
   "metadata": {},
   "source": [
    "\n",
    "### Math and Equations\n",
    " \n",
    "Equations can be included in your notebooks by either using `$$` symbols to wrap the equation or by using the `\\begin{equation}` to start an equation/math block. Please see the examples below:    \n",
    "\n",
    "Example 1: Using `$$`\n",
    "\n",
    "$$\n",
    "x = \\frac{-b \\pm \\sqrt{b^2 - 4ac}}{2a}\n",
    "$$\n",
    "\n",
    "\n",
    "You can use LaTeX syntax for equations in your documents. For example, here is an example of a cross-product:\n",
    "\n",
    "Example 2: \n",
    "\n",
    "\\begin{equation}\n",
    "\\label{matrix}\n",
    "\\mathbf{u} \\times \\mathbf{v}=\\left|\\begin{array}{ll}u_{2} & u_{3} \\\\ v_{2} & v_{3}\\end{array}\\right| \\mathbf{i}+\\left|\\begin{array}{ll}u_{3} & u_{1} \\\\ v_{3} & v_{1}\\end{array}\\right| \\mathbf{j}+\\left|\\begin{array}{ll}u_{1} & u_{2} \\\\ v_{1} & v_{2}\\end{array}\\right| \\mathbf{k}\n",
    "\\end{equation}\n",
    "\n",
    "\n",
    "\n",
    "Using the `$$` syntax, one can easily reference the equation too. For example here is the equation 1 with a label added that can be referenced:\n",
    "\n",
    "$$\n",
    "x = \\frac{-b \\pm \\sqrt{b^2 - 4ac}}{2a}\n",
    "$$ (my_label)\n",
    "\n",
    "\n",
    "#### Linking to equations\n",
    "\n",
    "You can easily link to these equations using `{eq}label` syntax. For example here is a link to example  {eq}`my_label` equation."
   ]
  },
  {
   "cell_type": "markdown",
   "metadata": {},
   "source": [
    "### Cross-Referencing \n",
    "To reference a figure in your notebook, first add the figure with a `label` or a `name`. Next use the label to reference it. \n",
    "\n",
    "🛠 Double click the next cell to see the MyST `{figure}` syntax.\n",
    "\n",
    "```{figure} https://artsourceinternational.com/wp-content/uploads/2018/04/P-1984-1.jpg\n",
    ":name: mountain-fig\n",
    ":align: center\n",
    "\n",
    "My **bold** mountain 🏔🚠.\n",
    "```\n",
    "\n",
    "Check out how we referenced [](#mountain-fig)!!\n",
    "\n",
    "\n",
    "To reference a table, first create a table and give it a `name`. \n",
    "\n",
    "```{table} My table title\n",
    ":name: my-table-ref\n",
    "\n",
    "| Month      | Temperature (°C) |\n",
    "|------------|------------------|\n",
    "| January    | 5                |\n",
    "| February   | 6                |\n",
    "| March      | 10               |\n",
    "| April      | 15               |\n",
    "| May        | 20               |\n",
    "| June       | 25               |\n",
    "| July       | 30               |\n",
    "| August     | 30               |\n",
    "| September  | 25               |\n",
    "| October    | 18               |\n",
    "| November   | 10               |\n",
    "| December   | 5                |\n",
    "```\n",
    "\n",
    "Now, you can reference this table [](my-table-ref)!! \n",
    "\n",
    "\n",
    ":::{seealso}\n",
    "To see more examples on cross-referencing figures, please see [this page](https://jupyterbook.org/en/stable/content/references.html#reference-figures).\n",
    ":::"
   ]
  },
  {
   "cell_type": "markdown",
   "metadata": {},
   "source": [
    "### Code Block Outputs\n",
    "\n",
    "Jupyter Book will also embed your code blocks and output in your book. For example, here’s some sample Matplotlib code:"
   ]
  },
  {
   "cell_type": "code",
   "execution_count": null,
   "metadata": {},
   "outputs": [],
   "source": [
    "from matplotlib import rcParams, cycler\n",
    "import matplotlib.pyplot as plt\n",
    "import numpy as np\n",
    "plt.ion()"
   ]
  },
  {
   "cell_type": "code",
   "execution_count": null,
   "metadata": {},
   "outputs": [],
   "source": [
    "# Fixing random state for reproducibility\n",
    "np.random.seed(19680801)\n",
    "\n",
    "N = 12  # 12 months\n",
    "data = [np.logspace(0, 1, 100) + np.random.randn(100) + ii for ii in range(N)]\n",
    "data = np.array(data).T\n",
    "monthly_medians = np.median(data, axis=0)\n",
    "\n",
    "\n",
    "cmap = plt.cm.coolwarm\n",
    "rcParams['axes.prop_cycle'] = cycler(color=cmap(np.linspace(0, 1, N)))\n",
    "\n",
    "\n",
    "from matplotlib.lines import Line2D\n",
    "custom_lines = [Line2D([0], [0], color=cmap(0.), lw=4),\n",
    "                Line2D([0], [0], color=cmap(.5), lw=4),\n",
    "                Line2D([0], [0], color=cmap(1.), lw=4)]\n",
    "\n",
    "fig, ax = plt.subplots(figsize=(10, 5))\n",
    "lines = ax.plot(data)\n",
    "ax.legend(custom_lines, ['Cold', 'Medium', 'Hot']);"
   ]
  },
  {
   "cell_type": "markdown",
   "metadata": {},
   "source": [
    "Note that the image above is captured and displayed in the published paper."
   ]
  },
  {
   "cell_type": "markdown",
   "metadata": {},
   "source": [
    "## Discussion\n",
    "[Insert Discussion Here]\n"
   ]
  },
  {
   "cell_type": "markdown",
   "metadata": {},
   "source": [
    "## Conclusion:\n",
    "\n",
    "[Insert Conclusion Here]"
   ]
  },
  {
   "cell_type": "markdown",
   "metadata": {},
   "source": [
    "## References\n",
    "\n",
    "Using the following syntax will automatically create the bibliography from the `references.bib` file. \n",
    "\n",
    "    ```{bibliography}\n",
    "    ```"
   ]
  },
  {
   "cell_type": "markdown",
   "metadata": {},
   "source": [
    "```{bibliography}\n",
    "```"
   ]
  }
 ],
 "metadata": {
  "kernelspec": {
   "display_name": "Python 3 (ipykernel)",
   "language": "python",
   "name": "python3"
  },
  "language_info": {
   "codemirror_mode": {
    "name": "ipython",
    "version": 3
   },
   "file_extension": ".py",
   "mimetype": "text/x-python",
   "name": "python",
   "nbconvert_exporter": "python",
   "pygments_lexer": "ipython3",
   "version": "3.12.3"
  }
 },
 "nbformat": 4,
 "nbformat_minor": 4
}
